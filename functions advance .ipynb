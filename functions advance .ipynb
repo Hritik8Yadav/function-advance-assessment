{
 "cells": [
  {
   "cell_type": "code",
   "execution_count": 10,
   "id": "f8d5ad1f-1a56-4d17-94c5-87ca2f1f85ab",
   "metadata": {},
   "outputs": [
    {
     "data": {
      "text/plain": [
       "[('Virat Kohli', 24936),\n",
       " ('Jack kallis', 25534),\n",
       " ('Ricky Pointing', 27483),\n",
       " ('Sachin Tendulkar', 34357)]"
      ]
     },
     "execution_count": 10,
     "metadata": {},
     "output_type": "execute_result"
    }
   ],
   "source": [
    "#Ans 1: #python program to sort given list based on integer values.\n",
    "l1=[('Sachin Tendulkar', 34357),('Ricky Pointing', 27483),('Jack kallis',25534),('Virat Kohli',24936)]\n",
    "l1.sort(key=lambda x:x[1])\n",
    "l1\n",
    "        "
   ]
  },
  {
   "cell_type": "code",
   "execution_count": 27,
   "id": "12d404c7-ea08-4cea-a5c5-330e0a914393",
   "metadata": {},
   "outputs": [
    {
     "name": "stdout",
     "output_type": "stream",
     "text": [
      "[1, 4, 9, 16, 25, 36, 49, 64, 81, 100]\n"
     ]
    }
   ],
   "source": [
    "#Ans 2: square using map and lambda functions\n",
    "l=[1,2,3,4,5,6,7,8,9,10]\n",
    "l1=list(map(lambda x:x**2,l))\n",
    "print(l1)"
   ]
  },
  {
   "cell_type": "code",
   "execution_count": 12,
   "id": "5de3c210-8d83-4c46-b537-38d37f621bf7",
   "metadata": {},
   "outputs": [
    {
     "data": {
      "text/plain": [
       "('1', '2', '3', '4', '5', '6', '7', '8', '9', '10')"
      ]
     },
     "execution_count": 12,
     "metadata": {},
     "output_type": "execute_result"
    }
   ],
   "source": [
    "#Ans 3: converting list of integers into tuple of strings\n",
    "lst=[1,2,3,4,5,6,7,8,9,10]\n",
    "tpl=tuple(map(str,lst))\n",
    "tpl"
   ]
  },
  {
   "cell_type": "code",
   "execution_count": 14,
   "id": "384a9e1a-28ba-4d97-97ed-f2e6b4e5a5c4",
   "metadata": {},
   "outputs": [
    {
     "data": {
      "text/plain": [
       "15511210043330985984000000"
      ]
     },
     "execution_count": 14,
     "metadata": {},
     "output_type": "execute_result"
    }
   ],
   "source": [
    "#Ans 4: computing product of a list containing numbers\n",
    "from functools import reduce\n",
    "l1=[i for i in range(1,26)]\n",
    "a=reduce(lambda x,y:x*y ,l1 )\n",
    "a"
   ]
  },
  {
   "cell_type": "code",
   "execution_count": 19,
   "id": "05991610-95c1-4850-8880-048e85ab66a1",
   "metadata": {},
   "outputs": [
    {
     "name": "stdout",
     "output_type": "stream",
     "text": [
      "[6, 60, 90, 120]\n"
     ]
    }
   ],
   "source": [
    "#Ans 5:\n",
    "lt=[2,3,6,9,27,60,90,120,55,46]\n",
    "l=list(filter(lambda x: x%2==0 and x%3==0 , lt))\n",
    "print(l)"
   ]
  },
  {
   "cell_type": "code",
   "execution_count": 26,
   "id": "1da9775c-a8b6-40ed-859b-3abfc3c8af45",
   "metadata": {},
   "outputs": [
    {
     "name": "stdout",
     "output_type": "stream",
     "text": [
      "['php', 'radar', 'level']\n"
     ]
    }
   ],
   "source": [
    "#Ans 5:\n",
    "l1=['python','php','radar','level']\n",
    "lst=list(filter(lambda x: x==x[::-1] , l1))\n",
    "print(lst)"
   ]
  },
  {
   "cell_type": "code",
   "execution_count": null,
   "id": "c851eb45-37e4-4348-849c-208f683e5bc0",
   "metadata": {},
   "outputs": [],
   "source": []
  },
  {
   "cell_type": "code",
   "execution_count": null,
   "id": "fdc6207f-0c09-4d95-9764-9112c05080d7",
   "metadata": {},
   "outputs": [],
   "source": []
  }
 ],
 "metadata": {
  "kernelspec": {
   "display_name": "Python 3 (ipykernel)",
   "language": "python",
   "name": "python3"
  },
  "language_info": {
   "codemirror_mode": {
    "name": "ipython",
    "version": 3
   },
   "file_extension": ".py",
   "mimetype": "text/x-python",
   "name": "python",
   "nbconvert_exporter": "python",
   "pygments_lexer": "ipython3",
   "version": "3.10.8"
  }
 },
 "nbformat": 4,
 "nbformat_minor": 5
}
